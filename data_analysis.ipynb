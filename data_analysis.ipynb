{
 "cells": [
  {
   "cell_type": "code",
   "execution_count": 1,
   "metadata": {},
   "outputs": [],
   "source": [
    "import pandas as pd"
   ]
  },
  {
   "cell_type": "code",
   "execution_count": 2,
   "metadata": {},
   "outputs": [],
   "source": [
    "# Read in the data\n",
    "berlin_data = pd.read_csv('./datasets/stundenwerte_RR_00399_19950901_20110801_hist/produkt_rr_stunde_19950901_20110801_00399.txt', sep=';')\n",
    "munich_data = pd.read_csv('./datasets/stundenwerte_RR_03379_19970707_20211231_hist/produkt_rr_stunde_19970707_20211231_03379.txt', sep=';')\n",
    "oldenburg_data = pd.read_csv('./datasets/stundenwerte_RR_03791_19980930_20121001_hist/produkt_rr_stunde_19980930_20121001_03791.txt', sep=';')"
   ]
  },
  {
   "cell_type": "markdown",
   "metadata": {},
   "source": [
    "# Having a look at the data"
   ]
  },
  {
   "cell_type": "code",
   "execution_count": 3,
   "metadata": {},
   "outputs": [
    {
     "name": "stdout",
     "output_type": "stream",
     "text": [
      "   STATIONS_ID  MESS_DATUM  QN_8    R1  RS_IND  WRTR  eor\n",
      "0          399  1995090100     1   1.0       1  -999  eor\n",
      "1          399  1995090101     1   0.6       1  -999  eor\n",
      "2          399  1995090102     1   0.8       1  -999  eor\n",
      "3          399  1995090103     1   2.8       1  -999  eor\n",
      "4          399  1995090104     1   1.3       1  -999  eor\n"
     ]
    }
   ],
   "source": [
    "print(berlin_data.head())"
   ]
  },
  {
   "cell_type": "code",
   "execution_count": 4,
   "metadata": {},
   "outputs": [
    {
     "name": "stdout",
     "output_type": "stream",
     "text": [
      "   STATIONS_ID  MESS_DATUM  QN_8    R1  RS_IND  WRTR  eor\n",
      "0         3379  1997070719     1   0.0       0  -999  eor\n",
      "1         3379  1997070720     1   0.0       0  -999  eor\n",
      "2         3379  1997070806     1   0.0       0  -999  eor\n",
      "3         3379  1997070807     1   0.0       0  -999  eor\n",
      "4         3379  1997070808     1   0.0       0  -999  eor\n"
     ]
    }
   ],
   "source": [
    "print(munich_data.head())\n"
   ]
  },
  {
   "cell_type": "code",
   "execution_count": 7,
   "metadata": {},
   "outputs": [
    {
     "name": "stdout",
     "output_type": "stream",
     "text": [
      "   STATIONS_ID  MESS_DATUM  QN_8    R1  RS_IND  WRTR  eor\n",
      "0         3791  1998093012     1   0.0       0  -999  eor\n",
      "1         3791  1998093014     1   0.0       0  -999  eor\n",
      "2         3791  1998093015     1   0.2       1  -999  eor\n",
      "3         3791  1998093016     1   0.0       0  -999  eor\n",
      "4         3791  1998093017     1   0.0       0  -999  eor\n",
      "854266\n"
     ]
    }
   ],
   "source": [
    "print(oldenburg_data.head())\n",
    "print(oldenburg_data.size)"
   ]
  },
  {
   "cell_type": "code",
   "execution_count": null,
   "metadata": {},
   "outputs": [],
   "source": [
    "# Remove whitespace from column names\n",
    "berlin_data.columns = berlin_data.columns.str.strip()"
   ]
  },
  {
   "cell_type": "code",
   "execution_count": null,
   "metadata": {},
   "outputs": [
    {
     "name": "stdout",
     "output_type": "stream",
     "text": [
      "Error values STATIONS_ID    34\n",
      "MESS_DATUM     34\n",
      "QN_8           34\n",
      "R1             34\n",
      "RS_IND         34\n",
      "WRTR           34\n",
      "eor            34\n",
      "dtype: int64\n"
     ]
    }
   ],
   "source": [
    "# count number of -999 values in R1 column\n",
    "print('Error values', berlin_data[berlin_data['R1'] == -999].count())"
   ]
  },
  {
   "cell_type": "code",
   "execution_count": null,
   "metadata": {},
   "outputs": [
    {
     "name": "stdout",
     "output_type": "stream",
     "text": [
      "Error values STATIONS_ID    0\n",
      "MESS_DATUM     0\n",
      "QN_8           0\n",
      "R1             0\n",
      "RS_IND         0\n",
      "WRTR           0\n",
      "eor            0\n",
      "dtype: int64\n"
     ]
    }
   ],
   "source": [
    "\n",
    "berlin_data['R1']\n",
    "# print negative values in R1 column\n",
    "berlin_data[berlin_data['R1'] < 0]\n",
    "# get average of R1 column\n",
    "berlin_data['R1'].mean()\n",
    "# get lowest value of R1 column\n",
    "berlin_data['R1'].min()\n",
    "# count number of negative values in R1 column\n",
    "berlin_data[berlin_data['R1'] < 0].count()\n",
    "\n",
    "\n",
    "# remove negative values from R1 column\n",
    "berlin_data = berlin_data[berlin_data['R1'] >= 0]\n",
    "# berlin_data['R1'].mean()\n"
   ]
  }
 ],
 "metadata": {
  "kernelspec": {
   "display_name": "Python 3.9.13 ('data-analysis-pipelines': venv)",
   "language": "python",
   "name": "python3"
  },
  "language_info": {
   "codemirror_mode": {
    "name": "ipython",
    "version": 3
   },
   "file_extension": ".py",
   "mimetype": "text/x-python",
   "name": "python",
   "nbconvert_exporter": "python",
   "pygments_lexer": "ipython3",
   "version": "3.9.13"
  },
  "orig_nbformat": 4,
  "vscode": {
   "interpreter": {
    "hash": "265c000cc26d5f915506e4d8d9b4042b498c9596c4df3d257e5aee47ec91c379"
   }
  }
 },
 "nbformat": 4,
 "nbformat_minor": 2
}
